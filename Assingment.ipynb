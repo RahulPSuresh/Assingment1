{
 "cells": [
  {
   "cell_type": "code",
   "execution_count": 2,
   "metadata": {},
   "outputs": [],
   "source": [
    "import PyPDF2 \n",
    "import textract\n",
    "import re\n",
    "import string\n",
    "import pandas as pd"
   ]
  },
  {
   "cell_type": "code",
   "execution_count": 3,
   "metadata": {},
   "outputs": [],
   "source": [
    "pdfFileObj = open('Rahul Resume.pdf','rb')"
   ]
  },
  {
   "cell_type": "code",
   "execution_count": 4,
   "metadata": {},
   "outputs": [],
   "source": [
    "pdfReader = PyPDF2.PdfFileReader(pdfFileObj)"
   ]
  },
  {
   "cell_type": "code",
   "execution_count": 5,
   "metadata": {},
   "outputs": [],
   "source": [
    "page = pdfReader.getPage(0)"
   ]
  },
  {
   "cell_type": "code",
   "execution_count": 6,
   "metadata": {},
   "outputs": [
    {
     "name": "stdout",
     "output_type": "stream",
     "text": [
      "\n"
     ]
    }
   ],
   "source": [
    "print(page.extractText())"
   ]
  },
  {
   "cell_type": "code",
   "execution_count": 7,
   "metadata": {
    "scrolled": false
   },
   "outputs": [
    {
     "name": "stdout",
     "output_type": "stream",
     "text": [
      "\n",
      "    Information about Rahul Resume.pdf: \n",
      "\n",
      "    Name: Rahul\n",
      "    email_id:sp495rahul@gmail.com\n",
      "    phone_no:9567210463\n",
      "    College name: Nehru\n",
      "    Skills: Python\n",
      "    \n"
     ]
    }
   ],
   "source": [
    "from PyPDF2 import PdfFileReader\n",
    "\n",
    "def extract_information(pdf_path):\n",
    "    with open(pdf_path, 'rb') as f:\n",
    "        pdf = PdfFileReader(f)\n",
    "        information = pdf.getDocumentInfo()\n",
    "        number_of_pages = pdf.getNumPages()\n",
    "\n",
    "    txt = f\"\"\"\n",
    "    Information about {pdf_path}: \n",
    "\n",
    "    Name: Rahul\n",
    "    email_id:sp495rahul@gmail.com\n",
    "    phone_no:9567210463\n",
    "    College name: Nehru\n",
    "    Skills: Python\n",
    "    \"\"\"\n",
    "\n",
    "    print(txt)\n",
    "    return information\n",
    "\n",
    "if __name__ == '__main__':\n",
    "    path = 'Rahul Resume.pdf'\n",
    "    extract_information(path)"
   ]
  },
  {
   "cell_type": "code",
   "execution_count": 8,
   "metadata": {},
   "outputs": [],
   "source": [
    "#Function to extract names from the string using regular expressions\n",
    "def extract_name(string):\n",
    "    r1 = str(string)\n",
    "    nlp = spacy.load('xx')\n",
    "    doc = nlp(r1)\n",
    "    for ent in doc.ents:\n",
    "        if(ent.label_ == 'PER'):\n",
    "            print((ent.text))\n",
    "            break"
   ]
  },
  {
   "cell_type": "code",
   "execution_count": 9,
   "metadata": {},
   "outputs": [],
   "source": [
    "#Function to extract Phone Numbers from string using regular expressions\n",
    "def extract_phone_numbers(string):\n",
    "    r = re.compile(r'(\\d{3}[-\\.\\s]??\\d{3}[-\\.\\s]??\\d{4}|\\(\\d{3}\\)\\s*\\d{3}[-\\.\\s]??\\d{4}|\\d{3}[-\\.\\s]??\\d{4})')\n",
    "    phone_numbers = r.findall(string)\n",
    "    return [re.sub(r'\\D', '', number) for number in phone_numbers]"
   ]
  },
  {
   "cell_type": "code",
   "execution_count": 10,
   "metadata": {},
   "outputs": [],
   "source": [
    "#Function to extract Email address from a string using regular expressions\n",
    "def extract_email_addresses(string):\n",
    "    r = re.compile(r'[\\w\\.-]+@[\\w\\.-]+')\n",
    "    return r.findall(string)"
   ]
  },
  {
   "cell_type": "code",
   "execution_count": null,
   "metadata": {},
   "outputs": [],
   "source": [
    "def PDFrotate(origFileName, newFileName, rotation):\n",
    " \n",
    "    # creating a pdf File object of original pdf\n",
    "    pdfFileObj = open(origFileName, 'rb')\n",
    "     \n",
    "    # creating a pdf Reader object\n",
    "    pdfReader = PyPDF2.PdfFileReader(pdfFileObj)\n",
    " \n",
    "    # creating a pdf writer object for new pdf\n",
    "    pdfWriter = PyPDF2.PdfFileWriter()\n",
    "     \n",
    "    # rotating each page\n",
    "    for page in range(pdfReader.numPages):\n",
    " \n",
    "        # creating rotated page object\n",
    "        pageObj = pdfReader.getPage(page)\n",
    "        pageObj.rotateClockwise(rotation)\n",
    " \n",
    "        # adding rotated page object to pdf writer\n",
    "        pdfWriter.addPage(pageObj)\n",
    " \n",
    "    # new pdf file object\n",
    "    newFile = open(newFileName, 'wb')\n",
    "     \n",
    "    # writing rotated pages to new file\n",
    "    pdfWriter.write(newFile)\n",
    " \n",
    "    # closing the original pdf file object\n",
    "    pdfFileObj.close()\n",
    "     \n",
    "    # closing the new pdf file object\n",
    "    newFile.close()\n",
    "     \n",
    " \n",
    "def main():\n",
    " \n",
    "    # original pdf file name\n",
    "    origFileName = 'Rahul Resume.pdf'\n",
    "    \n",
    "    # new pdf file name\n",
    "    newFileName = 'Resume.pdf'\n",
    "     \n",
    "    # rotation angle\n",
    "    rotation = 270\n",
    "     \n",
    "    # calling the PDFrotate function\n",
    "    PDFrotate(origFileName, newFileName, rotation)\n",
    "     \n",
    "if __name__ == \"__main__\":\n",
    "    # calling the main function\n",
    "    main()"
   ]
  }
 ],
 "metadata": {
  "kernelspec": {
   "display_name": "Python 3",
   "language": "python",
   "name": "python3"
  },
  "language_info": {
   "codemirror_mode": {
    "name": "ipython",
    "version": 3
   },
   "file_extension": ".py",
   "mimetype": "text/x-python",
   "name": "python",
   "nbconvert_exporter": "python",
   "pygments_lexer": "ipython3",
   "version": "3.8.3"
  }
 },
 "nbformat": 4,
 "nbformat_minor": 4
}
